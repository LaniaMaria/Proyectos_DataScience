{
 "cells": [
  {
   "cell_type": "code",
   "execution_count": 9,
   "id": "0056aed5-0b9b-4e6c-b59c-b5f4407b6e4e",
   "metadata": {},
   "outputs": [],
   "source": [
    "#transformacion lineal\n",
    "def transformacion(x):\n",
    "    return (2 * x + 5)"
   ]
  },
  {
   "cell_type": "code",
   "execution_count": 5,
   "id": "dd3099a9-fed7-4c7b-9505-1f777c437589",
   "metadata": {},
   "outputs": [
    {
     "data": {
      "text/plain": [
       "15"
      ]
     },
     "execution_count": 5,
     "metadata": {},
     "output_type": "execute_result"
    }
   ],
   "source": [
    "transformacion(5)"
   ]
  },
  {
   "cell_type": "code",
   "execution_count": 6,
   "id": "090b75b5-d3b1-4f6c-a8f5-3cfe344f0ccc",
   "metadata": {},
   "outputs": [
    {
     "data": {
      "text/plain": [
       "range(0, 5)"
      ]
     },
     "execution_count": 6,
     "metadata": {},
     "output_type": "execute_result"
    }
   ],
   "source": [
    "#list comprehension\n",
    "range(5)"
   ]
  },
  {
   "cell_type": "code",
   "execution_count": 13,
   "id": "fcea5e5a-3220-46fe-996f-8930552728be",
   "metadata": {},
   "outputs": [
    {
     "data": {
      "text/plain": [
       "[5, 7, 9, 11, 13, 15, 17, 19]"
      ]
     },
     "execution_count": 15,
     "metadata": {},
     "output_type": "execute_result"
    }
   ],
   "source": [
    "[transformacion(x) for x  in range(8)]"
   ]
  },
  {
   "cell_type": "code",
   "execution_count": 18,
   "id": "5a9b7492-a929-4614-9dd3-f3e33e17e065",
   "metadata": {},
   "outputs": [
    {
     "data": {
      "text/plain": [
       "[0, 2, 4, 6, 8, 10, 12, 14, 16, 18]"
      ]
     },
     "execution_count": 18,
     "metadata": {},
     "output_type": "execute_result"
    }
   ],
   "source": [
    "[x for x in range(20) if x % 2 == 0]"
   ]
  },
  {
   "cell_type": "code",
   "execution_count": 21,
   "id": "51acd967-40d4-42fb-ab0b-6c133ca58b2f",
   "metadata": {},
   "outputs": [
    {
     "data": {
      "text/plain": [
       "[0, 1, 2, 3, 4, 5, 6, 7, 8, 9]"
      ]
     },
     "execution_count": 21,
     "metadata": {},
     "output_type": "execute_result"
    }
   ],
   "source": [
    "[x for x in range(10)]"
   ]
  },
  {
   "cell_type": "code",
   "execution_count": 27,
   "id": "1996a9df-29e1-4353-82d2-67c824dacc5e",
   "metadata": {},
   "outputs": [
    {
     "data": {
      "text/plain": [
       "[-1, 1, 3, 5, 7, 9, 11, 13, 15, 17]"
      ]
     },
     "execution_count": 27,
     "metadata": {},
     "output_type": "execute_result"
    }
   ],
   "source": [
    "def transformacion(x):\n",
    "    return(x*2-1)\n",
    "\n",
    "[transformacion(x) for x in range(10)]"
   ]
  },
  {
   "cell_type": "code",
   "execution_count": 26,
   "id": "f15a508e-0e41-4704-9f34-586cadc07e1b",
   "metadata": {},
   "outputs": [],
   "source": []
  },
  {
   "cell_type": "code",
   "execution_count": null,
   "id": "f9065d29-4836-4915-8920-14d7aa6e8a70",
   "metadata": {},
   "outputs": [],
   "source": []
  }
 ],
 "metadata": {
  "kernelspec": {
   "display_name": "Python 3 (ipykernel)",
   "language": "python",
   "name": "python3"
  },
  "language_info": {
   "codemirror_mode": {
    "name": "ipython",
    "version": 3
   },
   "file_extension": ".py",
   "mimetype": "text/x-python",
   "name": "python",
   "nbconvert_exporter": "python",
   "pygments_lexer": "ipython3",
   "version": "3.9.12"
  }
 },
 "nbformat": 4,
 "nbformat_minor": 5
}
